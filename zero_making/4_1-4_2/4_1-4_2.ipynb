{
 "cells": [
  {
   "cell_type": "markdown",
   "id": "cb9259fb",
   "metadata": {
    "vscode": {
     "languageId": "plaintext"
    }
   },
   "source": [
    "# 4 動的計画法(Dynamic Programming)\n",
    "## 4.1 動的計画法と方策評価\n",
    "### 4.1.1 動的計画法の概要\n",
    "状態$S_t$が$s$、方策が$\\pi$であるときの収益の期待値を、**状態価値関数**$v_\\pi(s)$と定義する。\n",
    "$$\n",
    "v_\\pi(s)=\\mathbb{E} _\\pi[R_t+\\gamma R_{t+1}+\\gamma^2 R_{t+2}+\\cdots|S_t=s]\n",
    "$$\n",
    "この無限級数を含む期待値の計算はできない。そこで、ベルマン方程式を用いる。\n",
    "$$\n",
    "v_{\\pi}(s) = \\sum_{a, s'} \\pi(a|s) p(s'|s, a) \\left\\{ r(s, a, s') + \\gamma v_{\\pi}(s') \\right\\}\n",
    "\\tag{4.1}\n",
    "$$\n",
    "ベルマン方程式は、「現在の状態$s$の価値関数$v_\\pi (s)$」と「次の状態$s'$の価値関数$v_\\pi (s')$」との関係性を表す。DPを使った手法もベルマン方程式から導かれる。そのアイデアは、ベルマン方程式を「更新式」とすることである。これは数式で表すと、次のようになる。\n",
    "$$\n",
    "V_{k+1}(s) = \\sum_{a, s'} \\pi(a|s) p(s'|s, a) \\left\\{ r(s, a, s') + \\gamma V_k(s') \\right\\}\n",
    "\\tag{4.2}\n",
    "$$\n",
    "ここで、$V_{k+1},V_k$は推測値であり、真の価値関数$v(s)$とは異なるため、大文字$V$で表記。"
   ]
  },
  {
   "cell_type": "markdown",
   "id": "d92e44ff",
   "metadata": {},
   "source": [
    "### 4.1.2 反復方策評価を試す\n",
    "「2マスのグリッドワールド」を例にとり、反復方策評価アルゴリズムの流れを見る。\n",
    "\n",
    "![Fig.4-2](img/fig4-2.jpg)\n",
    "\n",
    "エージェントはランダムな方策$\\pi$に従って行動する。この問題では、次の状態$s'$はf(s,a)という関数で一意に決まるので、価値関数の更新式$(4.2)$は次のように簡略化できる。\n",
    "\n",
    "![Fig.4-3](img/fig4-3.jpg)\n",
    "\n",
    "それでは方策$\\pi$における価値関数を反復方策評価アルゴリズムを使って求める。\n",
    "まずは初期値として、$V_0(s)=0$とする。2マスのグリッドワールドでは状態は2つなので、\n",
    "\n",
    "$$\n",
    "V_0(L1)=0\n",
    "$$\n",
    "$$\n",
    "V_0(L2)=0\n",
    "$$\n",
    "\n"
   ]
  },
  {
   "cell_type": "code",
   "execution_count": 1,
   "id": "847ab71a",
   "metadata": {},
   "outputs": [
    {
     "name": "stdout",
     "output_type": "stream",
     "text": [
      "{'L1': 0.0, 'L2': -0.5}\n",
      "{'L1': -0.22499999999999998, 'L2': -0.725}\n",
      "{'L1': -0.42749999999999994, 'L2': -0.9274999999999999}\n",
      "{'L1': -0.6097499999999999, 'L2': -1.10975}\n",
      "{'L1': -0.7737750000000001, 'L2': -1.273775}\n",
      "{'L1': -0.9213975000000002, 'L2': -1.4213975}\n",
      "{'L1': -1.05425775, 'L2': -1.55425775}\n",
      "{'L1': -1.1738319750000001, 'L2': -1.6738319750000001}\n",
      "{'L1': -1.2814487775, 'L2': -1.7814487775}\n",
      "{'L1': -1.3783038997500001, 'L2': -1.8783038997500001}\n",
      "{'L1': -1.4654735097750002, 'L2': -1.965473509775}\n",
      "{'L1': -1.5439261587975002, 'L2': -2.0439261587975004}\n",
      "{'L1': -1.61453354291775, 'L2': -2.11453354291775}\n",
      "{'L1': -1.6780801886259753, 'L2': -2.1780801886259753}\n",
      "{'L1': -1.735272169763378, 'L2': -2.2352721697633777}\n",
      "{'L1': -1.7867449527870403, 'L2': -2.28674495278704}\n",
      "{'L1': -1.833070457508336, 'L2': -2.3330704575083363}\n",
      "{'L1': -1.8747634117575025, 'L2': -2.3747634117575025}\n",
      "{'L1': -1.9122870705817523, 'L2': -2.412287070581752}\n",
      "{'L1': -1.9460583635235769, 'L2': -2.446058363523577}\n",
      "{'L1': -1.9764525271712192, 'L2': -2.476452527171219}\n",
      "{'L1': -2.0038072744540973, 'L2': -2.5038072744540973}\n",
      "{'L1': -2.0284265470086877, 'L2': -2.5284265470086877}\n",
      "{'L1': -2.050583892307819, 'L2': -2.550583892307819}\n",
      "{'L1': -2.070525503077037, 'L2': -2.570525503077037}\n",
      "{'L1': -2.088472952769333, 'L2': -2.588472952769333}\n",
      "{'L1': -2.1046256574923996, 'L2': -2.6046256574923996}\n",
      "{'L1': -2.1191630917431596, 'L2': -2.6191630917431596}\n",
      "{'L1': -2.132246782568844, 'L2': -2.632246782568844}\n",
      "{'L1': -2.1440221043119596, 'L2': -2.6440221043119596}\n",
      "{'L1': -2.1546198938807635, 'L2': -2.6546198938807635}\n",
      "{'L1': -2.1641579044926873, 'L2': -2.6641579044926873}\n",
      "{'L1': -2.1727421140434187, 'L2': -2.6727421140434187}\n",
      "{'L1': -2.180467902639077, 'L2': -2.680467902639077}\n",
      "{'L1': -2.1874211123751692, 'L2': -2.6874211123751692}\n",
      "{'L1': -2.193679001137652, 'L2': -2.693679001137652}\n",
      "{'L1': -2.199311101023887, 'L2': -2.699311101023887}\n",
      "{'L1': -2.204379990921498, 'L2': -2.704379990921498}\n",
      "{'L1': -2.2089419918293483, 'L2': -2.7089419918293483}\n",
      "{'L1': -2.2130477926464134, 'L2': -2.7130477926464134}\n",
      "{'L1': -2.2167430133817723, 'L2': -2.7167430133817723}\n",
      "{'L1': -2.220068712043595, 'L2': -2.720068712043595}\n",
      "{'L1': -2.2230618408392355, 'L2': -2.7230618408392355}\n",
      "{'L1': -2.225755656755312, 'L2': -2.725755656755312}\n",
      "{'L1': -2.2281800910797807, 'L2': -2.7281800910797807}\n",
      "{'L1': -2.2303620819718026, 'L2': -2.7303620819718026}\n",
      "{'L1': -2.2323258737746223, 'L2': -2.7323258737746223}\n",
      "{'L1': -2.23409328639716, 'L2': -2.73409328639716}\n",
      "{'L1': -2.235683957757444, 'L2': -2.735683957757444}\n",
      "{'L1': -2.2371155619816996, 'L2': -2.7371155619816996}\n",
      "{'L1': -2.2384040057835297, 'L2': -2.7384040057835297}\n",
      "{'L1': -2.239563605205177, 'L2': -2.739563605205177}\n",
      "{'L1': -2.2406072446846594, 'L2': -2.7406072446846594}\n",
      "{'L1': -2.2415465202161933, 'L2': -2.7415465202161933}\n",
      "{'L1': -2.242391868194574, 'L2': -2.742391868194574}\n",
      "{'L1': -2.2431526813751166, 'L2': -2.7431526813751166}\n",
      "{'L1': -2.243837413237605, 'L2': -2.743837413237605}\n",
      "{'L1': -2.2444536719138446, 'L2': -2.7444536719138446}\n",
      "{'L1': -2.24500830472246, 'L2': -2.74500830472246}\n",
      "{'L1': -2.245507474250214, 'L2': -2.745507474250214}\n",
      "{'L1': -2.2459567268251925, 'L2': -2.7459567268251925}\n",
      "{'L1': -2.2463610541426733, 'L2': -2.7463610541426733}\n",
      "{'L1': -2.246724948728406, 'L2': -2.746724948728406}\n",
      "{'L1': -2.2470524538555656, 'L2': -2.7470524538555656}\n",
      "{'L1': -2.2473472084700092, 'L2': -2.7473472084700092}\n",
      "{'L1': -2.2476124876230084, 'L2': -2.7476124876230084}\n",
      "{'L1': -2.2478512388607075, 'L2': -2.7478512388607075}\n",
      "{'L1': -2.2480661149746366, 'L2': -2.7480661149746366}\n",
      "{'L1': -2.248259503477173, 'L2': -2.748259503477173}\n",
      "{'L1': -2.2484335531294555, 'L2': -2.7484335531294555}\n",
      "{'L1': -2.24859019781651, 'L2': -2.74859019781651}\n",
      "{'L1': -2.248731178034859, 'L2': -2.748731178034859}\n",
      "{'L1': -2.248858060231373, 'L2': -2.748858060231373}\n",
      "{'L1': -2.248972254208236, 'L2': -2.748972254208236}\n",
      "{'L1': -2.2490750287874124, 'L2': -2.7490750287874124}\n",
      "{'L1': -2.249167525908671, 'L2': -2.749167525908671}\n",
      "{'L1': -2.2492507733178044, 'L2': -2.7492507733178044}\n",
      "{'L1': -2.249325695986024, 'L2': -2.749325695986024}\n",
      "{'L1': -2.249393126387422, 'L2': -2.749393126387422}\n",
      "{'L1': -2.24945381374868, 'L2': -2.74945381374868}\n",
      "{'L1': -2.249508432373812, 'L2': -2.749508432373812}\n",
      "{'L1': -2.2495575891364306, 'L2': -2.7495575891364306}\n",
      "{'L1': -2.2496018302227876, 'L2': -2.7496018302227876}\n",
      "{'L1': -2.2496416472005087, 'L2': -2.7496416472005087}\n",
      "{'L1': -2.249677482480458, 'L2': -2.749677482480458}\n",
      "{'L1': -2.249709734232412, 'L2': -2.749709734232412}\n",
      "{'L1': -2.249738760809171, 'L2': -2.749738760809171}\n",
      "{'L1': -2.249764884728254, 'L2': -2.749764884728254}\n",
      "{'L1': -2.249788396255429, 'L2': -2.749788396255429}\n",
      "{'L1': -2.249809556629886, 'L2': -2.749809556629886}\n",
      "{'L1': -2.2498286009668975, 'L2': -2.7498286009668975}\n",
      "{'L1': -2.249845740870208, 'L2': -2.749845740870208}\n",
      "{'L1': -2.2498611667831874, 'L2': -2.7498611667831874}\n",
      "{'L1': -2.249875050104869, 'L2': -2.749875050104869}\n",
      "{'L1': -2.2498875450943823, 'L2': -2.7498875450943823}\n",
      "{'L1': -2.249898790584944, 'L2': -2.749898790584944}\n",
      "{'L1': -2.24990891152645, 'L2': -2.74990891152645}\n",
      "{'L1': -2.249918020373805, 'L2': -2.749918020373805}\n",
      "{'L1': -2.249926218336425, 'L2': -2.749926218336425}\n",
      "{'L1': -2.2499335965027827, 'L2': -2.7499335965027827}\n"
     ]
    }
   ],
   "source": [
    "V = {'L1': 0.0, 'L2': 0.0}\n",
    "new_V = V.copy()\n",
    "\n",
    "for _ in range(100):\n",
    "    new_V['L1'] = 0.5 * (-1 + 0.9 * V['L1']) + 0.5 * ( 1 + 0.9 * V['L2'])\n",
    "    new_V['L2'] = 0.5 * ( 0 + 0.9 * V['L1']) + 0.5 * (-1 + 0.9 * V['L2'])\n",
    "    V = new_V.copy()\n",
    "    print(V)"
   ]
  },
  {
   "cell_type": "markdown",
   "id": "76f43681",
   "metadata": {},
   "source": [
    "真の価値関数の値は `[-2.25, -2.75]`で、上の結果を見ると、100回更新した時点でほぼ同じ値となっている。"
   ]
  },
  {
   "cell_type": "markdown",
   "id": "b62c6bc5",
   "metadata": {},
   "source": [
    "次に、閾値を設定して更新する回数を自動で決める。"
   ]
  },
  {
   "cell_type": "code",
   "execution_count": 2,
   "id": "e6c4f189",
   "metadata": {},
   "outputs": [
    {
     "name": "stdout",
     "output_type": "stream",
     "text": [
      "{'L1': -2.249167525908671, 'L2': -2.749167525908671}\n",
      "76\n"
     ]
    }
   ],
   "source": [
    "V = {'L1': 0.0, 'L2': 0.0}\n",
    "new_V = V.copy()\n",
    "\n",
    "cnt = 0\n",
    "while True:\n",
    "    new_V['L1'] = 0.5 * (-1 + 0.9 * V['L1']) + 0.5 * (1 + 0.9 * V['L2'])\n",
    "    new_V['L2'] = 0.5 * (0 + 0.9 * V['L1']) + 0.5 * (-1 + 0.9 * V['L2'])\n",
    "\n",
    "    delta = abs(new_V['L1'] - V['L1'])\n",
    "    delta = max(delta, abs(new_V['L2'] - V['L2']))\n",
    "    V = new_V.copy()\n",
    "\n",
    "    cnt += 1\n",
    "    if delta < 0.0001:\n",
    "        print(V)\n",
    "        print(cnt)\n",
    "        break"
   ]
  },
  {
   "cell_type": "markdown",
   "id": "fc82aca2",
   "metadata": {},
   "source": [
    "ここでは閾値を`0.0001`に設定し、更新された変化量の最大値がその閾値を下回るまでループを続ける。\n",
    "上の結果を見ると、76回の更新を行い、この価値関数は真の価値関数と近い値を取っている。"
   ]
  },
  {
   "cell_type": "markdown",
   "id": "7d2d0a33",
   "metadata": {},
   "source": [
    "### 4.1.3 反復方策評価の別の実装方法\n",
    "先ほどの問題で反復方策評価アルゴリズムを実装するにあたり、2つのディクショナリを使った。\n",
    "1つは現状の価値関数を保持する`V`、もう1つは更新時に使用する`new_V`というディクショナリを使って、価値関数を更新した。\n",
    "\n",
    "![Fig.4-6](img/fig4-6.png)\n",
    "\n",
    "**図4-6**で注目したい点は、`new_V`の各要素を計算するにあたって`V`というディクショナリの値を使っていること。\n",
    "この実装には別の方式がある。それは、ディクショナリの各要素を上書きする方式。\n",
    "\n",
    "![Fig.4-7](img/fig4-7.png)\n",
    "\n",
    "**図4-7**の方式では`V`だけを使って各要素を上書きする。ここでは、これを「上書き方式」と呼ぶ。\n",
    "\n",
    "> 2つの方式は、どちらも無限回繰り返すことで正しい値に収束する。ただし「上書き方式」の方が更新のスピードが速くなる。"
   ]
  },
  {
   "cell_type": "code",
   "execution_count": 4,
   "id": "ac56fde8",
   "metadata": {},
   "outputs": [
    {
     "name": "stdout",
     "output_type": "stream",
     "text": [
      "{'L1': -2.2493782177156936, 'L2': -2.7494201578106514}\n",
      "60\n"
     ]
    }
   ],
   "source": [
    "V = {'L1': 0.0, 'L2': 0.0}\n",
    "\n",
    "cnt = 0\n",
    "while True:\n",
    "    t = 0.5 * (-1 + 0.9 * V['L1']) + 0.5 * (1 + 0.9 * V['L2'])\n",
    "    delta = abs(t - V['L1'])\n",
    "    V['L1'] = t\n",
    "\n",
    "    t = 0.5 * (0 + 0.9 * V['L1']) + 0.5 * (-1 + 0.9 * V['L2'])\n",
    "    delta = max(delta, abs(t - V['L2']))\n",
    "    V['L2'] = t\n",
    "\n",
    "    cnt += 1\n",
    "    if delta < 0.0001:\n",
    "        print(V)\n",
    "        print(cnt)\n",
    "        break"
   ]
  },
  {
   "cell_type": "markdown",
   "id": "4d40333e",
   "metadata": {},
   "source": [
    "今回は`V`というディクショナリだけを使い、各要素が即座に上書きされるようにした。上の結果を見ると、60回の更新で終わっていて、前回の76回よりも少ない。これから先は、「上書き方式」で反復方策評価アルゴリズムを実装する。"
   ]
  },
  {
   "cell_type": "code",
   "execution_count": 5,
   "id": "0e04977d",
   "metadata": {},
   "outputs": [
    {
     "name": "stdout",
     "output_type": "stream",
     "text": [
      "{'L1': -2.2493782177156936, 'L2': -2.7493332440857543}\n",
      "59\n"
     ]
    }
   ],
   "source": [
    "V = {'L1': 0.0, 'L2': 0.0}\n",
    "\n",
    "cnt = 0\n",
    "while True:\n",
    "\n",
    "    t = 0.5 * (0 + 0.9 * V['L1']) + 0.5 * (-1 + 0.9 * V['L2'])\n",
    "    delta = max(delta, abs(t - V['L2']))\n",
    "    V['L2'] = t\n",
    "\n",
    "    t = 0.5 * (-1 + 0.9 * V['L1']) + 0.5 * (1 + 0.9 * V['L2'])\n",
    "    delta = abs(t - V['L1'])\n",
    "    V['L1'] = t\n",
    "\n",
    "    cnt += 1\n",
    "    if delta < 0.0001:\n",
    "        print(V)\n",
    "        print(cnt)\n",
    "        break"
   ]
  },
  {
   "cell_type": "markdown",
   "id": "a36c9b2e",
   "metadata": {},
   "source": [
    "更新する順番を変えても、同様の結果が得られる。"
   ]
  },
  {
   "cell_type": "markdown",
   "id": "087e7582",
   "metadata": {},
   "source": [
    "## 4.2 より大きな問題へ\n",
    "反復方策評価アルゴリズムを使えば、状態と行動のパターン数がある程度大きくなっても高速に解くことができる。今回は**図4-8**のような「3×4のグリッドワールド」を考える。\n",
    "\n",
    "![Fig.4-8](img/fig4-8.png)\n",
    "\n",
    "「3×4のグリッドワールド」の問題設定\n",
    "* エージェントは上下左右の4方向に進むことができる\n",
    "* **図4-8**の灰色で表されたマス目は壁を表し、壁に入ることはできない\n",
    "* グリッドの外側にも壁があり、それ以上先に進むことはできない\n",
    "* 壁にぶつかった場合の報酬は0となる\n",
    "* リンゴは報酬＋1、爆弾は報酬－1とし、それ以外は報酬は0とする\n",
    "* 環境の状態遷移は一意に決まることにする。つまりエージェントが右へ進む行動を選択すると、(壁がなければ)必ず右へ進むものとする\n",
    "* 今回のタスクはエピソードタスクとして、リンゴを取ったら終了とする]"
   ]
  },
  {
   "cell_type": "markdown",
   "id": "43f46b30",
   "metadata": {},
   "source": [
    "### 4.2.1 GridWorldクラスの実装\n",
    "ここでは`GridWorld`クラスを、`common/gridworld.py`に実装する。\n",
    "\n",
    "#### `common/gridworld.py`\n",
    "\n",
    "---\n",
    "```python\n",
    "import numpy as np\n",
    "\n",
    "class GridWorld:\n",
    "    def __init__(self):\n",
    "        self.action_space = [0, 1, 2, 3]\n",
    "        self.action_meaning = {\n",
    "            0: \"UP\",\n",
    "            1: \"DOWN\",\n",
    "            2: \"LEFT\",\n",
    "            3: \"RIGHT\",\n",
    "        }\n",
    "\n",
    "        self.reward_map = np.array(\n",
    "            [[0, 0, 0, 1.0],\n",
    "             [0, None, 0, -1.0],\n",
    "             [0, 0, 0, 0]]\n",
    "        )\n",
    "        self.goal_state = (0, 3)\n",
    "        self.wall_state = (1, 1)\n",
    "        self.start_state = (2, 0)\n",
    "        self.agent_state = self.start_state\n",
    "```\n",
    "---\n",
    "\n",
    "`GridWorld`クラスには、いくつかのインスタンス変数を持たせる。`self.action\\_space`は行動空間、つまりは「行動の候補」を表します。上のコードでは行動は`[0, 1, 2, 3]`の4つの番号で表され、各番号の意味は`self.action\\_meaning`で定義されています。たとえば、`0`は上 (`UP`) 、`1` は下 (`DOWN`) への移動を意味します。`self.reward\\_map`は報酬マップです。この報酬マップは、各マス目に移動したときに得られる報酬の値を表します。報酬マップは、NumPy の 2 次元配列 (`np.ndarray`) で準備する関係で、座標系は**図4-9**のようになります。\n",
    "\n",
    "![Fig.4-9](img/fig4-9.png)\n",
    "<img src = \"img/fig4-9.png\">\n",
    "\n",
    "また、今回の問題はエピソードタスクになっている。\n",
    "\n",
    "続いて、`GridWorld`クラスのメソッドを示す。\n",
    "\n",
    "#### `common/gridworld.py`\n",
    "\n",
    "---\n",
    "```python\n",
    "import numpy as np\n",
    "\n",
    "class GridWorld:\n",
    "    ...\n",
    "\n",
    "    @property\n",
    "    def height(self):\n",
    "        return len(self.reward_map)\n",
    "\n",
    "    @property\n",
    "    def width(self):\n",
    "        return len(self.reward_map[0])\n",
    "\n",
    "    @property\n",
    "    def shape(self):\n",
    "        return self.reward_map.shape\n",
    "\n",
    "    def actions(self):\n",
    "        return self.action_space    # [0, 1, 2, 3]\n",
    "\n",
    "    def states(self):\n",
    "        for h in range(self.height):\n",
    "            for w in range(self.width):\n",
    "                yield (h, w)\n",
    "```\n",
    "---\n",
    "\n",
    "ここでは `@property` デコレーターを使って `GridWorld` クラスに便利なインスタンス変数をいくつか実装している。`@property` デコレーターは、メソッド名の前に配置することで、対象のメソッドをインスタンス変数として使用することができる。今回の場合は、次のようにグリッドワールドの大きさや形状を知ることができる。\n"
   ]
  },
  {
   "cell_type": "code",
   "execution_count": 7,
   "id": "f70c22fa",
   "metadata": {},
   "outputs": [
    {
     "name": "stdout",
     "output_type": "stream",
     "text": [
      "3\n",
      "4\n",
      "(3, 4)\n"
     ]
    }
   ],
   "source": [
    "if '__file__' in globals():\n",
    "    import os, sys\n",
    "    sys.path.append(os.path.join(os.path.dirname(__file__), '..'))\n",
    "import numpy as np\n",
    "from common.gridworld import GridWorld\n",
    "\n",
    "env = GridWorld()\n",
    "\n",
    "# env.height() ではなく env.height として使用できる\n",
    "print(env.height)   # 3\n",
    "print(env.width)    # 4\n",
    "print(env.shape)    # (3, 4)"
   ]
  },
  {
   "cell_type": "markdown",
   "id": "d5de1a6b",
   "metadata": {},
   "source": [
    "また、上のコードでは `GridWorld` クラスに `actions` と `states` というメソッドも実装した。このメソッドを使えば、すべての行動、すべての状態に対して順にアクセスできる。使用例は次のとおり。\n"
   ]
  },
  {
   "cell_type": "code",
   "execution_count": 8,
   "id": "4b370245",
   "metadata": {},
   "outputs": [
    {
     "name": "stdout",
     "output_type": "stream",
     "text": [
      "0\n",
      "1\n",
      "2\n",
      "3\n",
      "===\n",
      "(0, 0)\n",
      "(0, 1)\n",
      "(0, 2)\n",
      "(0, 3)\n",
      "(1, 0)\n",
      "(1, 1)\n",
      "(1, 2)\n",
      "(1, 3)\n",
      "(2, 0)\n",
      "(2, 1)\n",
      "(2, 2)\n",
      "(2, 3)\n"
     ]
    }
   ],
   "source": [
    "for action in env.actions():\n",
    "    print(action)\n",
    "\n",
    "print('===')\n",
    "\n",
    "for state in env.states():\n",
    "    print(state)"
   ]
  },
  {
   "cell_type": "markdown",
   "id": "75026b1a",
   "metadata": {},
   "source": [
    "それでは次に、環境の状態遷移を表すメソッド `next_state()` と報酬関数のメソッド `reward()` を実装する。コードは次のとおり。\n",
    "\n",
    "```python\n",
    "class GridWorld:\n",
    "    ...\n",
    "\n",
    "    def next_state(self, state, action):\n",
    "        # ① 移動先の場所の計算\n",
    "        action_move_map = [(-1, 0), (1, 0), (0, -1), (0, 1)]\n",
    "        move = action_move_map[action]\n",
    "        next_state = (state[0] + move[0], state[1] + move[1])\n",
    "        ny, nx = next_state\n",
    "\n",
    "        # ② 移動先がグリッドワールドの枠の外か、それとも移動先が壁か？\n",
    "        if nx < 0 or nx >= self.width or ny < 0 or ny >= self.height:\n",
    "            next_state = state\n",
    "        elif next_state == self.wall_state:\n",
    "            next_state = state\n",
    "\n",
    "        return next_state   # ③ 次の状態を返す\n",
    "\n",
    "    def reward(self, state, action, next_state):\n",
    "        return self.reward_map[next_state]"
   ]
  },
  {
   "cell_type": "markdown",
   "id": "cb181b74",
   "metadata": {},
   "source": [
    "コードの①では、壁やグリッドワールドの枠は一旦無視して移動先を計算する。そして②で枠外や壁に移動していないかの判定を行い、移動できない場合は `next_state = state` とする。また、今回のタスクでは、状態遷移は決定論的なので、コードの③では次の状態を返す。\n",
    "\n",
    "報酬関数のメソッドである `reward(self, state, action, next_state)` は、数式の `r(s, a, s')` の引数に対応させたため、そのような引数にしている。ただし今回の問題では、次の状態だけを使って報酬の値を決定する。\n",
    "\n",
    "その他に、`GridWorld` クラスには、可視化のために `render_v(self, v=None, policy=None)` というメソッドを用意している。次のように使うことができる。\n"
   ]
  },
  {
   "cell_type": "code",
   "execution_count": 9,
   "id": "836d1ebf",
   "metadata": {},
   "outputs": [
    {
     "data": {
      "image/png": "[encoded data removed]",
      "text/plain": [
       "<Figure size 640x480 with 1 Axes>"
      ]
     },
     "metadata": {},
     "output_type": "display_data"
    }
   ],
   "source": [
    "env = GridWorld()\n",
    "env.render_v()"
   ]
  },
  {
   "cell_type": "markdown",
   "id": "979d0f46",
   "metadata": {},
   "source": [
    "壁はグレーで描画され、マス目の左下には報酬の値が描画される。報酬が0の場所は空白で描画される。この`render_v`メソッドは、状態価値関数を引数に与えることができる。試しに、ダミーの状態価値関数を与えて描画して見る。"
   ]
  },
  {
   "cell_type": "code",
   "execution_count": null,
   "id": "e7d52d53",
   "metadata": {},
   "outputs": [
    {
     "data": {
      "image/png": "[encoded data removed]",
      "text/plain": [
       "<Figure size 640x480 with 1 Axes>"
      ]
     },
     "metadata": {},
     "output_type": "display_data"
    }
   ],
   "source": [
    "# ch04/gridworld_play.py\n",
    "env = GridWorld()\n",
    "V = {}\n",
    "for state in env.states():\n",
    "    V[state] = np.random.randn()  # ダミーの状態価値関数\n",
    "env.render_v(V)"
   ]
  },
  {
   "cell_type": "markdown",
   "id": "1b26206b",
   "metadata": {},
   "source": [
    "ここではダミーの価値関数として `V` を用意した。`render_v` メソッドに価値関数を与えると、各場所における価値関数の値がマスの右上に表示される。また、その値に応じてヒートマップで――マイナスになればなるほど赤が強くなり、プラスになればなるほど線が強くなるように――描画される。\n",
    "\n",
    "続いて、反復方策評価アルゴリズムを実装する前に、Python標準ライブラリにある`collections.defaultdict`の使い方を説明する。`defaultdict`を使うと、価値関数や方策をシンプルに実装できる。"
   ]
  },
  {
   "cell_type": "markdown",
   "id": "36f0d47d",
   "metadata": {},
   "source": [
    "### 4.2.2 defaultdictの使い方\n",
    "\n",
    "これまでの例では、私たちは価値関数をディクショナリとして実装してきた。たとえば、次のようなコード。\n",
    "\n",
    "```python\n",
    "from common.gridworld import GridWorld\n",
    "\n",
    "env = GridWorld()\n",
    "V = {}\n",
    "\n",
    "# ディクショナリの要素の初期化\n",
    "for state in env.states():\n",
    "    V[state] = 0\n",
    "\n",
    "state = (1, 2)  # 状態 (1, 2) の価値関数を出力\n",
    "print(V[state])\n",
    "```\n",
    "\n",
    "上の例では、`V = {}` として価値関数をディクショナリとして実装している。ディクショナリは、`V[key]` のように使いますが、`key` が存在しない場合にはエラーになる。そのため、上のように最初にすべての要素を初期化する必要がある。この初期化の手間を解消するのが、Python 標準ライブラリにある `defaultdict` である。これを次のように使うことができる。\n",
    "\n",
    "```python\n",
    "from collections import defaultdict  # defaultdictをインポート\n",
    "from common.gridworld import GridWorld\n",
    "\n",
    "env = GridWorld()\n",
    "V = defaultdict(lambda: 0)  # デフォルト値 0 の defaultdict\n",
    "\n",
    "state = (1, 2)\n",
    "print(V[state])  # 0\n",
    "```\n",
    "\n",
    "このように、`defaultdict` を使えば、キーが存在しない場合でもデフォルト値を返すので、初期化の手間が省ける。\n"
   ]
  },
  {
   "cell_type": "code",
   "execution_count": 12,
   "id": "c73c11bc",
   "metadata": {},
   "outputs": [],
   "source": [
    "from collections import defaultdict"
   ]
  },
  {
   "cell_type": "markdown",
   "id": "a6299ff9",
   "metadata": {},
   "source": [
    "### 4.2.3 反復方策評価の実装\n",
    "反復方策評価アルゴリズムを実装する。\n",
    "まずは、1ステップの更新だけを行うメソッドを実装する。\n",
    "ここで実装する `eval_onestep` 関数は、次の引数を取る。\n",
    "\n",
    "* `pi (defaultdict)`: 方策\n",
    "* `V (defaultdict)`: 価値関数\n",
    "* `env (GridWorld)`: 環境\n",
    "* `gamma (float)`: 割引率\n"
   ]
  },
  {
   "cell_type": "code",
   "execution_count": 14,
   "id": "0d4a437f",
   "metadata": {},
   "outputs": [],
   "source": [
    "def eval_onestep(pi, V, env, gamma=0.9):\n",
    "    for state in env.states():  # ①各状態へアクセス\n",
    "        if state == env.goal_state: # ②ゴールの価値関数は常に0\n",
    "            V[state] = 0\n",
    "            continue\n",
    "\n",
    "        action_probs = pi[state]    # probsはprobabilitiesの略\n",
    "        new_V = 0\n",
    "\n",
    "        # ③各行動へアクセス\n",
    "        for action, action_prob in action_probs.items():\n",
    "            next_state = env.next_state(state, action)\n",
    "            r = env.reward(state, action, next_state)\n",
    "            # ④新しい価値関数\n",
    "            new_V += action_prob * (r + gamma * V[next_state])\n",
    "        V[state] = new_V\n",
    "    return V"
   ]
  },
  {
   "cell_type": "markdown",
   "id": "b18d5197",
   "metadata": {},
   "source": [
    "コードの①ではすべての状態を1つずつたどる。図で表すと次のようになる。\n",
    "\n",
    "![Fig.4-12](img\\fig4-12.png)"
   ]
  },
  {
   "cell_type": "markdown",
   "id": "02550dec",
   "metadata": {},
   "source": [
    "後は、反復方策評価アルゴリズムの更新式である式 (4.3) に当てはめる（再掲）。\n",
    "\n",
    "$$\n",
    "s' = f(s, a)として、\n",
    "$$\n",
    "\n",
    "$$\n",
    "V_{k+1}(s) = \\sum_a \\pi(a|s) \\left\\{ r(s, a, s') + \\gamma V_k(s') \\right\\}\n",
    "\\tag{4.3}\n",
    "$$\n",
    "\n",
    "式 (4.3) とコードの④を見比べると、対応関係がはっきりする。この `eval_onestep` 関数では、価値関数の 1 ステップの更新が終わる。後は、この更新を繰り返し行う。そのためのメソッドは次のように実装できる。\n"
   ]
  },
  {
   "cell_type": "code",
   "execution_count": 15,
   "id": "4b1d145c",
   "metadata": {},
   "outputs": [],
   "source": [
    "def policy_eval(pi, V, env, gamma, threshold=0.001):\n",
    "    while True:\n",
    "        old_V = V.copy()\n",
    "        V = eval_onestep(pi, V, env, gamma)\n",
    "\n",
    "        delta = 0\n",
    "        for state in V.keys():\n",
    "            t = abs(V[state] - old_V[state])\n",
    "            if delta < t:\n",
    "                delta = t\n",
    "\n",
    "        if delta < threshold:\n",
    "            break\n",
    "    return V"
   ]
  },
  {
   "cell_type": "markdown",
   "id": "2016a21a",
   "metadata": {},
   "source": [
    "引数の `threshold` は更新時の閾値である。上のコードで示すとおり、繰り返し `eval_onestep` 関数を呼び出し、更新された量の最大値が閾値より小さくなったら更新をストップする。\n",
    "\n",
    "それでは、これまで実装した `GridWorld` クラスと `policy_eval` 関数を使って、方策評価を行ってみる。コードは次のとおりである。\n"
   ]
  },
  {
   "cell_type": "code",
   "execution_count": 16,
   "id": "65f8c593",
   "metadata": {},
   "outputs": [
    {
     "data": {
      "image/png": "[encoded data removed]",
      "text/plain": [
       "<Figure size 640x480 with 1 Axes>"
      ]
     },
     "metadata": {},
     "output_type": "display_data"
    }
   ],
   "source": [
    "if __name__ == '__main__':\n",
    "    env = GridWorld()\n",
    "    gamma = 0.9\n",
    "\n",
    "    pi = defaultdict(lambda: {0: 0.25, 1: 0.25, 2: 0.25, 3: 0.25})\n",
    "    V = defaultdict(lambda: 0)\n",
    "\n",
    "    V = policy_eval(pi, V, env, gamma)\n",
    "    env.render_v(V, pi)"
   ]
  },
  {
   "cell_type": "markdown",
   "id": "7476eeda",
   "metadata": {},
   "source": [
    "図 4-13 は、ランダムな方策における価値関数を示している。たとえば、左下のスタート地点の価値関数は -0.10 となっている。これは、左下の地点からランダムに動くと、得られる収益の期待値が -0.10 になるということだ。エージェントはランダムに動くので、爆弾を避けて得られる報酬 (+1 の報酬) よりも爆弾 (-1 の報酬) を得る確率が少し大きいことがわかる。\n",
    "\n",
    "全体的に見ると、一番下の行と真ん中の行はすべてがマイナスになっている。それらの場所では爆弾の影響が大きいことがわかる。\n",
    "\n",
    "このようなコードを実行すると、結果は一瞬で得られる。DP を使うことで、効率的に方策の評価を行うことができる。これで、グリッドワールドのサイズが（ある程度）大きくなっても大丈夫。しかし、まだ私たちは方策の評価だけしか行っていない。続いて、最適方策を見つける方法について見ていく。\n"
   ]
  }
 ],
 "metadata": {
  "kernelspec": {
   "display_name": "ml-project",
   "language": "python",
   "name": "python3"
  },
  "language_info": {
   "codemirror_mode": {
    "name": "ipython",
    "version": 3
   },
   "file_extension": ".py",
   "mimetype": "text/x-python",
   "name": "python",
   "nbconvert_exporter": "python",
   "pygments_lexer": "ipython3",
   "version": "3.11.12"
  }
 },
 "nbformat": 4,
 "nbformat_minor": 5
}
