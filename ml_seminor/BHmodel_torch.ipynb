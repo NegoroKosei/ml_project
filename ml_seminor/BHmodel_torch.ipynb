{
 "cells": [
  {
   "cell_type": "markdown",
   "metadata": {
    "id": "B-hFyPEuR-7K"
   },
   "source": [
    "2023/10/27 M.Udagawa"
   ]
  },
  {
   "cell_type": "markdown",
   "metadata": {
    "id": "BrIT1ZqcFteB"
   },
   "source": [
    "# セットアップ"
   ]
  },
  {
   "cell_type": "code",
   "execution_count": 1,
   "metadata": {
    "id": "0kiVF4RNFqMH"
   },
   "outputs": [],
   "source": [
    "import torch\n",
    "import torch.nn as nn\n",
    "import torch.nn.functional as F\n",
    "import numpy as np\n",
    "\n",
    "device = 'cuda' if torch.cuda.is_available() else 'cpu'\n",
    "\n",
    "n_site = 8\n",
    "n_boson = n_site\n",
    "n_sample = 1024\n",
    "U = 1\n",
    "t = 1\n",
    "\n",
    "EPOCH = 101\n",
    "burn_in = 16"
   ]
  },
  {
   "cell_type": "code",
   "execution_count": null,
   "metadata": {
    "id": "coWuT-8jTEPk"
   },
   "outputs": [],
   "source": [
    "print(device)"
   ]
  },
  {
   "cell_type": "markdown",
   "metadata": {
    "id": "zvNwx7yov8qT"
   },
   "source": [
    "# ネットワークの構築"
   ]
  },
  {
   "cell_type": "code",
   "execution_count": null,
   "metadata": {
    "id": "Y94GwuVPZEJV"
   },
   "outputs": [],
   "source": [
    "class Netwark(nn.Module):\n",
    "  def __init__(self):\n",
    "    super(Netwark, self).__init__()\n",
    "    self.fc_in = nn.Linear(n_site, 80, bias=False)\n",
    "    self.fc_out = nn.Linear(80, 1, bias=False)\n",
    "\n",
    "  def forward(self, x:torch.tensor) -> torch.tensor:\n",
    "    output = self.fc_in(x)\n",
    "    output = F.tanh(output)\n",
    "    output = self.fc_out(output)\n",
    "    return output\n",
    "\n",
    "  def forward_cpu(self, x):\n",
    "    output = torch.from_numpy(x.astype(np.float32)).to(device)\n",
    "    with torch.no_grad():\n",
    "      output = self.forward(output)\n",
    "    return output.to('cpu').detach().numpy()"
   ]
  },
  {
   "cell_type": "markdown",
   "metadata": {
    "id": "ebrSs0a4cGpf"
   },
   "source": [
    "# サンプル生成"
   ]
  },
  {
   "cell_type": "code",
   "execution_count": null,
   "metadata": {
    "id": "7Q26qw3RcQF7"
   },
   "outputs": [],
   "source": [
    "class SampledState():\n",
    "\n",
    "  def __init__(self, net):\n",
    "    self.num = np.zeros((n_sample, n_site), dtype=np.int32)\n",
    "    for i in range(n_sample):\n",
    "      for j in range(n_boson):\n",
    "        self.num[i][j%n_site] += 1\n",
    "    self.thermalize(net)\n",
    "\n",
    "  def try_flip(self, net):\n",
    "    num_tmp = np.copy(self.num)\n",
    "    for i in range(n_sample):\n",
    "      x0 = np.random.randint(n_site)\n",
    "      x1 = np.random.randint(n_site)\n",
    "      if num_tmp[i][x0] > 0 and x0 != x1:\n",
    "        num_tmp[i][x0] -= 1\n",
    "        num_tmp[i][x1] += 1\n",
    "\n",
    "    lnpsi_org = net.forward_cpu(self.num).reshape(n_sample)\n",
    "    lnpsi_tmp = net.forward_cpu(num_tmp).reshape(n_sample)\n",
    "    r = np.random.rand(n_sample) #0~1の乱数を出力する\n",
    "    isflip = r < np.exp(2 * (lnpsi_tmp - lnpsi_org))\n",
    "    for i in range(n_sample):\n",
    "      if isflip[i]:\n",
    "        self.num[i] = num_tmp[i]\n",
    "\n",
    "  def thermalize(self, net):\n",
    "    for _ in range(1024):\n",
    "      self.try_flip(net)\n"
   ]
  },
  {
   "cell_type": "markdown",
   "metadata": {
    "id": "34-1HR6a1SQZ"
   },
   "source": [
    "# エネルギー計算"
   ]
  },
  {
   "cell_type": "code",
   "execution_count": null,
   "metadata": {
    "id": "1J-QTCPe1VJY"
   },
   "outputs": [],
   "source": [
    "def LocalEnergy(net, state):\n",
    "  st = np.zeros((n_sample, n_site, 2, n_site))\n",
    "  st += state.num.reshape(n_sample, 1, 1, n_site)\n",
    "  for i in range(n_sample):\n",
    "    for j in range(n_site):\n",
    "      if state.num[i][j] > 0:\n",
    "        st[i][j][0][j] -= 1\n",
    "        st[i][j][0][(j+1)%n_site] += 1\n",
    "        st[i][j][1][j] -= 1\n",
    "        st[i][j][1][(j-1+n_site)%n_site] += 1\n",
    "  st = st.reshape(n_sample*n_site*2, n_site)\n",
    "  lnpsi2 = net.forward_cpu(st).reshape(n_sample, n_site, 2)\n",
    "  lnpsi_org = net.forward_cpu(state.num).reshape(n_sample)\n",
    "  eloc = np.zeros(n_sample, dtype=np.float32)\n",
    "  for i in range(n_sample):\n",
    "    onsite = 0.0\n",
    "    hopping = 0.0\n",
    "    for j in range(n_site):\n",
    "      if state.num[i][j] > 0:\n",
    "        onsite += state.num[i][j] * (state.num[i][j] - 1)\n",
    "        hopping += np.sqrt(state.num[i][j]\n",
    "                           * (state.num[i][(j+1)%n_site] + 1)) \\\n",
    "                           * np.exp(lnpsi2[i][j][0] - lnpsi_org[i])\n",
    "        hopping += np.sqrt(state.num[i][j]\n",
    "                           * (state.num[i][(j-1+n_site)%n_site] + 1)) \\\n",
    "                           * np.exp(lnpsi2[i][j][1] - lnpsi_org[i])\n",
    "    eloc[i] = -t * hopping + 0.5 * U * onsite\n",
    "  return eloc"
   ]
  },
  {
   "cell_type": "markdown",
   "metadata": {
    "id": "-1GCTZIv_FZc"
   },
   "source": [
    "# 学習"
   ]
  },
  {
   "cell_type": "code",
   "execution_count": null,
   "metadata": {
    "id": "pBYds-wZ_NBd"
   },
   "outputs": [],
   "source": [
    "net = Netwark()\n",
    "net = net.to(device)\n",
    "state = SampledState(net)\n",
    "optimizer = torch.optim.Adam(net.parameters())\n",
    "counter = 0\n",
    "\n",
    "def run(net, state):\n",
    "  eloc = LocalEnergy(net, state)\n",
    "  ene = eloc.mean() #mean -> 平均をとる\n",
    "  eloc = torch.from_numpy(eloc).to(device)\n",
    "  inputs = torch.from_numpy(state.num.astype(np.float32)).to(device)\n",
    "  optimizer.zero_grad()\n",
    "  outputs = net(inputs)\n",
    "  outputs = torch.reshape(outputs, shape=(n_sample,))\n",
    "  loss = (outputs * (eloc - ene)).mean()\n",
    "  loss.backward()\n",
    "  optimizer.step()\n",
    "  return ene"
   ]
  },
  {
   "cell_type": "code",
   "execution_count": null,
   "metadata": {
    "id": "cSTTUNl2Adpv"
   },
   "outputs": [],
   "source": [
    "inner_counter = 0\n",
    "\n",
    "while (inner_counter%EPOCH) != (EPOCH - 1):\n",
    "  ene = run(net, state)\n",
    "  for _ in range(burn_in):\n",
    "    state.try_flip(net)\n",
    "  if (counter%10) == 0:\n",
    "    print(counter, ene)\n",
    "  inner_counter += 1\n",
    "  counter += 1"
   ]
  },
  {
   "cell_type": "code",
   "execution_count": null,
   "metadata": {
    "id": "UVcwPvKOjPo5"
   },
   "outputs": [],
   "source": [
    "print(state.num)"
   ]
  }
 ],
 "metadata": {
  "accelerator": "GPU",
  "colab": {
   "authorship_tag": "ABX9TyPpB+kolfoJfJ4fk/84Cg7d",
   "gpuType": "T4",
   "provenance": []
  },
  "kernelspec": {
   "display_name": ".venv",
   "language": "python",
   "name": "python3"
  },
  "language_info": {
   "codemirror_mode": {
    "name": "ipython",
    "version": 3
   },
   "file_extension": ".py",
   "mimetype": "text/x-python",
   "name": "python",
   "nbconvert_exporter": "python",
   "pygments_lexer": "ipython3",
   "version": "3.11.12"
  }
 },
 "nbformat": 4,
 "nbformat_minor": 0
}
