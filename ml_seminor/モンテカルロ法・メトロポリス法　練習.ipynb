{
  "cells": [
    {
      "cell_type": "markdown",
      "metadata": {
        "id": "6Wy2ejA1XuOs"
      },
      "source": [
        "モンテカルロ法を練習しよう！"
      ]
    },
    {
      "cell_type": "code",
      "execution_count": 1,
      "metadata": {
        "id": "6shzDujOVaQZ"
      },
      "outputs": [],
      "source": [
        "import numpy as np"
      ]
    },
    {
      "cell_type": "markdown",
      "metadata": {
        "id": "Eipo8KHboKcj"
      },
      "source": [
        "①$\\sum_{x=1}^{1000}\\sum_{y=1}^{1000}xy=250500250000$"
      ]
    },
    {
      "cell_type": "code",
      "execution_count": 86,
      "metadata": {
        "id": "8OPXmcuDlkIL"
      },
      "outputs": [
        {
          "name": "stdout",
          "output_type": "stream",
          "text": [
            "25377774.0\n"
          ]
        }
      ],
      "source": [
        "Ns= 10000 #サンプル数\n",
        "x = np.random.randint(1,101, Ns) #1～1000の整数をランダムにNs個生成\n",
        "y = np.random.randint(1,101, Ns) #1～1000の整数をランダムにNs個生成\n",
        "print(a:=np.mean(10000*x*y))"
      ]
    },
    {
      "cell_type": "markdown",
      "metadata": {
        "id": "sv4TgAI7Z2Kb"
      },
      "source": [
        "②$\\int_{-5}^{5}\\int_{-5}^{5}(2x^2+y^2) dxdy=2500$"
      ]
    },
    {
      "cell_type": "code",
      "execution_count": 21,
      "metadata": {
        "id": "xLLmgZGBfLpg"
      },
      "outputs": [
        {
          "name": "stdout",
          "output_type": "stream",
          "text": [
            "2522.9412227417906\n"
          ]
        }
      ],
      "source": [
        "Ns= 10000 #サンプル数\n",
        "x = np.random.rand(Ns)*10 -5 #-5～5の乱数をNs個生成\n",
        "y = np.random.rand(Ns)*10 -5 #-5～5の乱数をNs個生成\n",
        "print(np.mean(100*(2*x*x + y*y)))"
      ]
    },
    {
      "cell_type": "markdown",
      "metadata": {
        "id": "aRLaq0_1pEXh"
      },
      "source": [
        "③何か問題を作ってみよう！\n",
        "$\\int_{0}^{\\pi}\\int_{0}^{\\pi}sin(xy) dxdy=2.90068$"
      ]
    },
    {
      "cell_type": "code",
      "execution_count": null,
      "metadata": {
        "id": "XmYuzYPRcEry"
      },
      "outputs": [
        {
          "name": "stdout",
          "output_type": "stream",
          "text": [
            "2.939633612324096\n"
          ]
        }
      ],
      "source": [
        "Ns = 1000000 #サンプル数\n",
        "x = np.random.rand(Ns)*np.pi #0～1の乱数をNs個生成\n",
        "y = np.random.rand(Ns)*np.pi #0～1の乱数をNs個生成\n",
        "print(np.mean((np.sin(x*y))*np.pi**2))"
      ]
    },
    {
      "cell_type": "markdown",
      "metadata": {
        "id": "nIJNbakLcFE6"
      },
      "source": [
        "メトロポリス・ヘイスティングス法を用いて正規分布に従うサンプルを生成しよう"
      ]
    },
    {
      "cell_type": "code",
      "execution_count": 36,
      "metadata": {
        "id": "LUCjG0mEcK13"
      },
      "outputs": [],
      "source": [
        "import matplotlib.pyplot as plt\n",
        "import tqdm"
      ]
    },
    {
      "cell_type": "code",
      "execution_count": null,
      "metadata": {
        "id": "A74rfc7_cTy0"
      },
      "outputs": [
        {
          "data": {
            "text/plain": [
              "(array([ 81.,  95., 109., 116., 100., 107.,  90., 101., 113., 109., 116.,\n",
              "         93.,  91.,  91.,  88., 107.,  96.,  75.,  92., 109., 114., 100.,\n",
              "         81.,  86.,  91., 122.,  91., 104.,  96.,  99.,  97.,  96.,  64.,\n",
              "         89.,  95.,  95.,  92., 106.,  99.,  97.,  94., 106., 111., 106.,\n",
              "        108.,  92.,  80., 115., 112., 102., 105., 117., 105.,  98.,  91.,\n",
              "        103., 109.,  81., 102., 112.,  85.,  93.,  96., 120., 110.,  93.,\n",
              "         94., 120.,  75., 110., 114., 106., 101., 103.,  98.,  94., 102.,\n",
              "         88.,  82., 106., 103., 105.,  97.,  92., 104., 109., 103.,  87.,\n",
              "        120.,  83., 101., 105.,  87.,  79.,  92., 103.,  99.,  95., 102.,\n",
              "         88.,  95., 102., 110., 117.,  95., 108., 103.,  99.,  94.,  97.,\n",
              "         92., 106., 108., 109.,  99., 120., 129., 126., 115.,  97.,  93.,\n",
              "        113.,  96., 109.,  99., 103.,  96.,  88., 109.,  99.,  89.,  98.,\n",
              "        106., 102.,  92.,  95.,  98., 112., 111.,  84., 109., 104., 106.,\n",
              "        119., 127., 102.,  99.,  82., 109., 102., 115.,  94., 111.,  86.,\n",
              "         77., 110.,  93., 100.,  77.,  99., 106.,  96.,  92., 120.,  91.,\n",
              "        114., 102., 104., 118.,  97.,  99.,  94., 112., 120., 107.,  86.,\n",
              "        108., 103., 110.,  90., 110., 106., 106., 102., 112., 102.,  95.,\n",
              "         93., 114.,  95.,  97.,  90., 106., 102., 102.,  93.,  86., 105.,\n",
              "         95.,  99., 109.,  98., 102., 113.,  95., 108.,  94., 104.,  95.,\n",
              "         92., 107., 114., 104., 100., 105., 114., 100.,  80.,  85., 104.,\n",
              "        106.,  90.,  92., 119., 111., 103.,  71., 107., 101., 100.,  87.,\n",
              "         92., 112., 109., 102.,  80., 102.,  92., 110.,  99., 115., 114.,\n",
              "        107.,  79.,  95.,  93.,  83., 111., 114.,  94., 114., 104.,  85.,\n",
              "         97.,  94.,  90., 114.,  96.,  94., 103., 107., 116., 111., 107.,\n",
              "         80.,  97.,  95.,  79., 109.,  84.,  87., 109.,  96., 101., 114.,\n",
              "        105., 102., 109.,  95., 102., 106., 114.,  91.,  96., 110.,  95.,\n",
              "        103., 105., 102.,  94.,  89.,  99., 104.,  90., 122.,  92.,  91.,\n",
              "        103.,  92.,  84., 101., 117.,  98.,  95.,  95.,  90.,  96.,  97.,\n",
              "         88.,  89., 104., 112.,  83., 108.,  90.,  94., 102.,  90., 132.,\n",
              "        106.,  91.,  91., 107.,  97.,  98., 114., 122., 103., 112.,  93.,\n",
              "         98.,  98.,  93.,  80., 107., 102.,  90.,  98., 103.,  98.,  85.,\n",
              "        104.,  88., 104.,  94.,  85., 116., 102.,  85.,  93., 116.,  92.,\n",
              "        118.,  82., 107., 105.,  99.,  93.,  94., 110.,  88.,  99.,  94.,\n",
              "        102.,  94., 100.,  97., 104., 107., 110.,  90.,  86., 113., 102.,\n",
              "        103.,  95.,  98.,  90., 103., 115., 105., 101., 100., 109., 100.,\n",
              "         88., 101.,  90., 106.,  91., 106.,  89., 105.,  88.,  96.,  99.,\n",
              "         98.,  97.,  87.,  97.,  95., 108.,  88.,  91., 109.,  96., 110.,\n",
              "         75., 117., 109.,  92.,  98., 112.,  75., 116., 108.,  98.,  93.,\n",
              "         86., 106., 112., 106.,  95., 103., 119.,  92., 108.,  85., 112.,\n",
              "        109., 118., 101., 114., 109.,  97., 103.,  93., 106.,  92., 107.,\n",
              "         98.,  91.,  92.,  95.,  97.,  96., 118., 106., 101., 100.,  89.,\n",
              "         87., 112., 105., 109., 110.,  96.,  90., 116.,  89., 100.,  92.,\n",
              "         95., 100., 103., 113.,  98.,  95.,  94.,  97.,  90.,  88.,  98.,\n",
              "         99.,  96., 102., 110., 101.,  92.,  96., 102.,  96.,  89., 106.,\n",
              "         86., 114., 103.,  85.,  87.,  95., 116., 102.,  89.,  81.,  95.,\n",
              "        105., 103.,  97.,  93.,  94., 104., 120.,  97., 110.,  98.,  91.,\n",
              "         94.,  93., 101., 128., 100., 111.,  81., 107., 115., 104.,  86.,\n",
              "         92.,  95., 102.,  92., 108.,  92.,  85., 109., 107., 121.,  94.,\n",
              "        105.,  88.,  98., 105.,  88.,  82., 105., 115.,  89.,  98.,  87.,\n",
              "         99., 102., 106., 108.,  86.,  96., 102., 117.,  91., 106., 111.,\n",
              "         98., 111.,  76., 102.,  87.,  80., 100., 110.,  92.,  96., 106.,\n",
              "         96., 101.,  90., 108., 103., 104.,  91., 109., 101.,  96.,  97.,\n",
              "         91.,  87., 100., 115.,  86., 105.,  93., 116.,  99., 108.,  88.,\n",
              "        101., 103., 133., 101.,  83., 108., 107.,  83.,  94.,  96., 100.,\n",
              "        108., 123.,  95., 101.,  98.,  90., 106.,  97., 104.,  91.,  82.,\n",
              "         82.,  89.,  98.,  90., 106.,  94., 100., 103., 103.,  94.,  76.,\n",
              "         90., 112.,  92., 100.,  92., 122.,  91., 106., 104., 109.,  90.,\n",
              "        105.,  89., 103., 102.,  85.,  81.,  86., 105., 108., 112.,  87.,\n",
              "         94.,  96., 102.,  90., 102.,  93.,  95., 117.,  85.,  96.,  95.,\n",
              "        101.,  87.,  97., 103., 103.,  96., 113.,  90.,  86., 101.,  88.,\n",
              "        109., 104., 113.,  96., 124., 107.,  93., 105.,  99.,  99., 105.,\n",
              "         95., 121.,  95., 106.,  98., 102.,  94., 110., 103.,  96., 106.,\n",
              "         85., 109., 104.,  93.,  85.,  85., 113., 122.,  99., 101., 104.,\n",
              "         96., 106.,  97.,  92., 112., 118., 109.,  96.,  99.,  87.,  88.,\n",
              "        101.,  96., 120.,  81.,  98.,  92., 105., 103., 114.,  99.,  86.,\n",
              "        107., 113., 132., 102.,  95., 102.,  82., 103.,  99.,  97., 101.,\n",
              "         98., 105., 107.,  93.,  90., 101., 102., 115., 119., 101.,  91.,\n",
              "         96., 109.,  92., 100., 109., 102.,  94., 105.,  88.,  97., 116.,\n",
              "        100.,  94., 107., 105., 118., 104., 101.,  90.,  99., 118., 107.,\n",
              "         92.,  87., 109., 104., 114.,  90., 102.,  88.,  94.,  92., 110.,\n",
              "        107., 104.,  90., 109., 104., 115., 104.,  88., 105.,  97., 103.,\n",
              "         86., 123.,  96.,  99.,  84., 108.,  94.,  93., 107.,  92., 102.,\n",
              "        100., 105.,  98.,  99., 107.,  86., 100., 110., 103., 105.,  95.,\n",
              "        111.,  97.,  97., 107., 109., 108., 116.,  98.,  88., 111.,  92.,\n",
              "         82., 107., 108.,  89.,  91., 111., 106., 113.,  99.,  99., 101.,\n",
              "        111., 119.,  88.,  91., 105., 110.,  88., 114., 102., 105.,  95.,\n",
              "        106.,  93., 101., 123.,  88., 101.,  97., 100., 117.,  95., 106.,\n",
              "         87., 110., 110., 102., 113.,  87., 117., 101., 111.,  90.,  91.,\n",
              "        120.,  87., 107.,  97.,  90.,  88., 103.,  94.,  82.,  94., 116.,\n",
              "         88.,  92., 107., 102., 119., 100.,  85., 111., 117.,  95., 100.,\n",
              "         96., 101.,  99., 103.,  99.,  85., 108.,  99.,  93., 119., 103.,\n",
              "        111., 103., 103., 103.,  97., 105.,  85., 114., 127.,  90., 104.,\n",
              "         92.,  87.,  99., 105., 107.,  97., 115.,  92.,  84., 119.,  95.,\n",
              "         90.,  94., 103., 103., 100.,  97.,  95.,  98.,  91.,  94.,  97.,\n",
              "        102.,  98., 107.,  87., 115., 108., 113.,  87., 109., 104.,  94.,\n",
              "         88., 104.,  93., 106.,  94., 102., 118.,  97., 114., 107.,  99.,\n",
              "        101.,  93., 102.,  90., 102., 103.,  99.,  99.,  95., 112., 101.,\n",
              "         88., 104., 115., 100.,  99., 111.,  84.,  81., 123.,  91.,  96.,\n",
              "        110., 101., 102.,  91., 108.,  88.,  98., 100., 104.,  88., 108.,\n",
              "        100.,  98., 112.,  86., 101., 112., 109., 105., 100.,  82.,  84.,\n",
              "        107.,  92.,  81.,  98.,  93.,  80.,  92.,  89., 111.,  98.]),\n",
              " array([-4.99984781, -4.98984818, -4.97984855, ...,  4.97978372,\n",
              "         4.98978335,  4.99978298], shape=(1001,)),\n",
              " <BarContainer object of 1000 artists>)"
            ]
          },
          "execution_count": 37,
          "metadata": {},
          "output_type": "execute_result"
        },
        {
          "data": {
            "image/png": "[encoded data removed]",
            "text/plain": [
              "<Figure size 640x480 with 1 Axes>"
            ]
          },
          "metadata": {},
          "output_type": "display_data"
        }
      ],
      "source": [
        "NSAMPLE = 100000\n",
        "x_org = np.random.rand(NSAMPLE)*10-5 #初期サンプル(-5～5の乱数をNSAMPLE個生成)\n",
        "plt.hist(x_org,bins=1000)"
      ]
    },
    {
      "cell_type": "code",
      "execution_count": 38,
      "metadata": {
        "id": "p9-y8jNwcY4C"
      },
      "outputs": [],
      "source": [
        "def cal_normal(x):\n",
        "  y = (1/(np.sqrt(2*np.pi)))*np.exp(-0.5*x*x)\n",
        "  return y"
      ]
    },
    {
      "cell_type": "code",
      "execution_count": 41,
      "metadata": {
        "id": "2t8nrzVxch9P"
      },
      "outputs": [
        {
          "name": "stderr",
          "output_type": "stream",
          "text": [
            "100%|██████████| 100000/100000 [16:32<00:00, 100.80it/s]\n"
          ]
        }
      ],
      "source": [
        "for i in tqdm.tqdm(range(100000)):\n",
        "  x_tmp = np.random.rand(NSAMPLE)*10-5 #新しいサンプルの提案\n",
        "  P_org = cal_normal(x_org) #現在のサンプルの確率\n",
        "  P_tmp = cal_normal(x_tmp) #新しいサンプルの確率\n",
        "  r = np.random.rand(NSAMPLE) #0～1の乱数\n",
        "  update = (r < P_tmp/P_org)\n",
        "  x_org = update * x_tmp + ~update * x_org"
      ]
    },
    {
      "cell_type": "code",
      "execution_count": 52,
      "metadata": {
        "id": "Np2J98GCcnDD"
      },
      "outputs": [
        {
          "data": {
            "text/plain": [
              "[<matplotlib.lines.Line2D at 0x27f1179ed10>]"
            ]
          },
          "execution_count": 52,
          "metadata": {},
          "output_type": "execute_result"
        },
        {
          "data": {
            "image/png": "[encoded data removed]",
            "text/plain": [
              "<Figure size 640x480 with 1 Axes>"
            ]
          },
          "metadata": {},
          "output_type": "display_data"
        }
      ],
      "source": [
        "a,b,_ = plt.hist(x_org,bins=1000)\n",
        "plt.close()\n",
        "c = a/((b[1]-b[0])*NSAMPLE)\n",
        "plt.bar(x=b[:-1], height=c, width=b[1]-b[0], align=\"edge\")\n",
        "x = np.arange(-5, 5, 0.01)\n",
        "normal = cal_normal(x)\n",
        "plt.plot(x,normal,color = \"red\")"
      ]
    }
  ],
  "metadata": {
    "colab": {
      "provenance": []
    },
    "kernelspec": {
      "display_name": ".venv",
      "language": "python",
      "name": "python3"
    },
    "language_info": {
      "codemirror_mode": {
        "name": "ipython",
        "version": 3
      },
      "file_extension": ".py",
      "mimetype": "text/x-python",
      "name": "python",
      "nbconvert_exporter": "python",
      "pygments_lexer": "ipython3",
      "version": "3.11.12"
    }
  },
  "nbformat": 4,
  "nbformat_minor": 0
}
